{
 "cells": [
  {
   "cell_type": "code",
   "execution_count": 63,
   "metadata": {},
   "outputs": [],
   "source": [
    "import pandas as pd\n",
    "import numpy as np\n",
    "\n",
    "pd.options.display.max_columns = None\n",
    "pd.options.display.max_rows = 100"
   ]
  },
  {
   "cell_type": "markdown",
   "metadata": {},
   "source": [
    "# Applying the PD Model"
   ]
  },
  {
   "cell_type": "code",
   "execution_count": 5,
   "metadata": {},
   "outputs": [
    {
     "data": {
      "text/html": [
       "<div>\n",
       "<style scoped>\n",
       "    .dataframe tbody tr th:only-of-type {\n",
       "        vertical-align: middle;\n",
       "    }\n",
       "\n",
       "    .dataframe tbody tr th {\n",
       "        vertical-align: top;\n",
       "    }\n",
       "\n",
       "    .dataframe thead th {\n",
       "        text-align: right;\n",
       "    }\n",
       "</style>\n",
       "<table border=\"1\" class=\"dataframe\">\n",
       "  <thead>\n",
       "    <tr style=\"text-align: right;\">\n",
       "      <th></th>\n",
       "      <th>Feature name</th>\n",
       "      <th>Coefficients</th>\n",
       "      <th>p_values</th>\n",
       "    </tr>\n",
       "  </thead>\n",
       "  <tbody>\n",
       "    <tr>\n",
       "      <th>0</th>\n",
       "      <td>Intercept</td>\n",
       "      <td>1.483647</td>\n",
       "      <td>NaN</td>\n",
       "    </tr>\n",
       "    <tr>\n",
       "      <th>1</th>\n",
       "      <td>grade_A</td>\n",
       "      <td>0.889716</td>\n",
       "      <td>1.387834e-18</td>\n",
       "    </tr>\n",
       "    <tr>\n",
       "      <th>2</th>\n",
       "      <td>grade_B</td>\n",
       "      <td>0.761152</td>\n",
       "      <td>1.163630e-31</td>\n",
       "    </tr>\n",
       "    <tr>\n",
       "      <th>3</th>\n",
       "      <td>grade_C</td>\n",
       "      <td>0.579016</td>\n",
       "      <td>8.214773e-22</td>\n",
       "    </tr>\n",
       "    <tr>\n",
       "      <th>4</th>\n",
       "      <td>grade_D</td>\n",
       "      <td>0.426654</td>\n",
       "      <td>1.107295e-13</td>\n",
       "    </tr>\n",
       "  </tbody>\n",
       "</table>\n",
       "</div>"
      ],
      "text/plain": [
       "  Feature name  Coefficients      p_values\n",
       "0    Intercept      1.483647           NaN\n",
       "1      grade_A      0.889716  1.387834e-18\n",
       "2      grade_B      0.761152  1.163630e-31\n",
       "3      grade_C      0.579016  8.214773e-22\n",
       "4      grade_D      0.426654  1.107295e-13"
      ]
     },
     "execution_count": 5,
     "metadata": {},
     "output_type": "execute_result"
    }
   ],
   "source": [
    "summary_table = pd.read_csv('../processed/05_summary_table.csv')\n",
    "summary_table.head()"
   ]
  },
  {
   "cell_type": "code",
   "execution_count": 6,
   "metadata": {},
   "outputs": [],
   "source": [
    "ref_categories = ['grade:G',\n",
    "'home_ownership:RENT_OTHER_NONE_ANY',\n",
    "'addr_state:ND_NE_IA_NV_FL_HI_AL',\n",
    "'verification_status:Verified',\n",
    "'purpose:educ__sm_b__wedd__ren_en__mov__house',\n",
    "'initial_list_status:f',\n",
    "'term:60',\n",
    "'emp_length:0',\n",
    "'mths_since_issue_d:>84',\n",
    "'int_rate:>20.281',\n",
    "'mths_since_earliest_cr_line:<140',\n",
    "'inq_last_6mths:>6',\n",
    "'acc_now_delinq:0',\n",
    "'annual_inc:<20K',\n",
    "'dti:>35',\n",
    "'mths_since_last_delinq:0-3',\n",
    "'mths_since_last_record:0-2']"
   ]
  },
  {
   "cell_type": "markdown",
   "metadata": {},
   "source": [
    "### Creating a Scorecard"
   ]
  },
  {
   "cell_type": "code",
   "execution_count": 7,
   "metadata": {
    "scrolled": true
   },
   "outputs": [
    {
     "data": {
      "text/html": [
       "<div>\n",
       "<style scoped>\n",
       "    .dataframe tbody tr th:only-of-type {\n",
       "        vertical-align: middle;\n",
       "    }\n",
       "\n",
       "    .dataframe tbody tr th {\n",
       "        vertical-align: top;\n",
       "    }\n",
       "\n",
       "    .dataframe thead th {\n",
       "        text-align: right;\n",
       "    }\n",
       "</style>\n",
       "<table border=\"1\" class=\"dataframe\">\n",
       "  <thead>\n",
       "    <tr style=\"text-align: right;\">\n",
       "      <th></th>\n",
       "      <th>Feature name</th>\n",
       "      <th>Coefficients</th>\n",
       "      <th>p_values</th>\n",
       "    </tr>\n",
       "  </thead>\n",
       "  <tbody>\n",
       "    <tr>\n",
       "      <th>0</th>\n",
       "      <td>grade:G</td>\n",
       "      <td>0</td>\n",
       "      <td>NaN</td>\n",
       "    </tr>\n",
       "    <tr>\n",
       "      <th>1</th>\n",
       "      <td>home_ownership:RENT_OTHER_NONE_ANY</td>\n",
       "      <td>0</td>\n",
       "      <td>NaN</td>\n",
       "    </tr>\n",
       "    <tr>\n",
       "      <th>2</th>\n",
       "      <td>addr_state:ND_NE_IA_NV_FL_HI_AL</td>\n",
       "      <td>0</td>\n",
       "      <td>NaN</td>\n",
       "    </tr>\n",
       "    <tr>\n",
       "      <th>3</th>\n",
       "      <td>verification_status:Verified</td>\n",
       "      <td>0</td>\n",
       "      <td>NaN</td>\n",
       "    </tr>\n",
       "    <tr>\n",
       "      <th>4</th>\n",
       "      <td>purpose:educ__sm_b__wedd__ren_en__mov__house</td>\n",
       "      <td>0</td>\n",
       "      <td>NaN</td>\n",
       "    </tr>\n",
       "    <tr>\n",
       "      <th>5</th>\n",
       "      <td>initial_list_status:f</td>\n",
       "      <td>0</td>\n",
       "      <td>NaN</td>\n",
       "    </tr>\n",
       "    <tr>\n",
       "      <th>6</th>\n",
       "      <td>term:60</td>\n",
       "      <td>0</td>\n",
       "      <td>NaN</td>\n",
       "    </tr>\n",
       "    <tr>\n",
       "      <th>7</th>\n",
       "      <td>emp_length:0</td>\n",
       "      <td>0</td>\n",
       "      <td>NaN</td>\n",
       "    </tr>\n",
       "    <tr>\n",
       "      <th>8</th>\n",
       "      <td>mths_since_issue_d:&gt;84</td>\n",
       "      <td>0</td>\n",
       "      <td>NaN</td>\n",
       "    </tr>\n",
       "    <tr>\n",
       "      <th>9</th>\n",
       "      <td>int_rate:&gt;20.281</td>\n",
       "      <td>0</td>\n",
       "      <td>NaN</td>\n",
       "    </tr>\n",
       "    <tr>\n",
       "      <th>10</th>\n",
       "      <td>mths_since_earliest_cr_line:&lt;140</td>\n",
       "      <td>0</td>\n",
       "      <td>NaN</td>\n",
       "    </tr>\n",
       "    <tr>\n",
       "      <th>11</th>\n",
       "      <td>inq_last_6mths:&gt;6</td>\n",
       "      <td>0</td>\n",
       "      <td>NaN</td>\n",
       "    </tr>\n",
       "    <tr>\n",
       "      <th>12</th>\n",
       "      <td>acc_now_delinq:0</td>\n",
       "      <td>0</td>\n",
       "      <td>NaN</td>\n",
       "    </tr>\n",
       "    <tr>\n",
       "      <th>13</th>\n",
       "      <td>annual_inc:&lt;20K</td>\n",
       "      <td>0</td>\n",
       "      <td>NaN</td>\n",
       "    </tr>\n",
       "    <tr>\n",
       "      <th>14</th>\n",
       "      <td>dti:&gt;35</td>\n",
       "      <td>0</td>\n",
       "      <td>NaN</td>\n",
       "    </tr>\n",
       "    <tr>\n",
       "      <th>15</th>\n",
       "      <td>mths_since_last_delinq:0-3</td>\n",
       "      <td>0</td>\n",
       "      <td>NaN</td>\n",
       "    </tr>\n",
       "    <tr>\n",
       "      <th>16</th>\n",
       "      <td>mths_since_last_record:0-2</td>\n",
       "      <td>0</td>\n",
       "      <td>NaN</td>\n",
       "    </tr>\n",
       "  </tbody>\n",
       "</table>\n",
       "</div>"
      ],
      "text/plain": [
       "                                    Feature name  Coefficients  p_values\n",
       "0                                        grade:G             0       NaN\n",
       "1             home_ownership:RENT_OTHER_NONE_ANY             0       NaN\n",
       "2                addr_state:ND_NE_IA_NV_FL_HI_AL             0       NaN\n",
       "3                   verification_status:Verified             0       NaN\n",
       "4   purpose:educ__sm_b__wedd__ren_en__mov__house             0       NaN\n",
       "5                          initial_list_status:f             0       NaN\n",
       "6                                        term:60             0       NaN\n",
       "7                                   emp_length:0             0       NaN\n",
       "8                         mths_since_issue_d:>84             0       NaN\n",
       "9                               int_rate:>20.281             0       NaN\n",
       "10              mths_since_earliest_cr_line:<140             0       NaN\n",
       "11                             inq_last_6mths:>6             0       NaN\n",
       "12                              acc_now_delinq:0             0       NaN\n",
       "13                               annual_inc:<20K             0       NaN\n",
       "14                                       dti:>35             0       NaN\n",
       "15                    mths_since_last_delinq:0-3             0       NaN\n",
       "16                    mths_since_last_record:0-2             0       NaN"
      ]
     },
     "execution_count": 7,
     "metadata": {},
     "output_type": "execute_result"
    }
   ],
   "source": [
    "df_ref_categories = pd.DataFrame(ref_categories, columns = ['Feature name'])\n",
    "df_ref_categories['Coefficients'] = 0\n",
    "df_ref_categories['p_values'] = np.nan\n",
    "df_ref_categories"
   ]
  },
  {
   "cell_type": "code",
   "execution_count": 16,
   "metadata": {},
   "outputs": [],
   "source": [
    "df_scorecard = pd.concat([summary_table, df_ref_categories])\n",
    "df_scorecard = df_scorecard.sort_values('Feature name').reset_index()"
   ]
  },
  {
   "cell_type": "code",
   "execution_count": 30,
   "metadata": {},
   "outputs": [],
   "source": [
    "def feature_name(row):\n",
    "    if(row.startswith('acc_now_delinq')): return 'acc_now_delinq'\n",
    "    if(row.startswith('grade')): return 'grade'\n",
    "    if(row.startswith('addr_state')): return 'addr_state'\n",
    "    if(row.startswith('annual_inc')): return 'annual_inc'\n",
    "    if(row.startswith('dti')): return 'dti'\n",
    "    if(row.startswith('emp_length')): return 'emp_length'\n",
    "    if(row.startswith('home_ownership')): return 'home_ownership'\n",
    "    if(row.startswith('initial_list_status')): return 'initial_list_status'\n",
    "    if(row.startswith('inq_last')): return 'inq_last'\n",
    "    if(row.startswith('int_rate')): return 'int_rate'\n",
    "    if(row.startswith('mths_since_earliest_cr_line')): return 'mths_since_earliest_cr_line'\n",
    "    if(row.startswith('mths_since_last_record')): return 'mths_since_last_record'\n",
    "    if(row.startswith('purpose')): return 'purpose'\n",
    "    if(row.startswith('term')): return 'term'\n",
    "    if(row.startswith('verification_status')): return 'verification_status'\n",
    "    if(row.startswith('mths_since_issue_d')): return 'mths_since_issue_d'\n",
    "    if(row.startswith('mths_since_last_delinq')): return 'mths_since_last_delinq'\n",
    "    return row"
   ]
  },
  {
   "cell_type": "code",
   "execution_count": 31,
   "metadata": {},
   "outputs": [
    {
     "data": {
      "text/plain": [
       "array(['Intercept', 'acc_now_delinq', 'addr_state', 'annual_inc', 'dti',\n",
       "       'emp_length', 'grade', 'home_ownership', 'initial_list_status',\n",
       "       'inq_last', 'int_rate', 'mths_since_earliest_cr_line',\n",
       "       'mths_since_issue_d', 'mths_since_last_delinq',\n",
       "       'mths_since_last_record', 'purpose', 'term', 'verification_status'],\n",
       "      dtype=object)"
      ]
     },
     "execution_count": 31,
     "metadata": {},
     "output_type": "execute_result"
    }
   ],
   "source": [
    "df_scorecard['Original feature name'] = df_scorecard['Feature name'].apply(feature_name)\n",
    "df_scorecard['Original feature name'].unique()"
   ]
  },
  {
   "cell_type": "code",
   "execution_count": 32,
   "metadata": {},
   "outputs": [],
   "source": [
    "min_score = 300\n",
    "max_score = 850"
   ]
  },
  {
   "cell_type": "code",
   "execution_count": 33,
   "metadata": {},
   "outputs": [
    {
     "data": {
      "text/plain": [
       "Original feature name\n",
       "Intercept                      1.483647\n",
       "acc_now_delinq                 0.000000\n",
       "addr_state                     0.000000\n",
       "annual_inc                    -0.032055\n",
       "dti                            0.000000\n",
       "emp_length                     0.000000\n",
       "grade                          0.000000\n",
       "home_ownership                 0.000000\n",
       "initial_list_status            0.000000\n",
       "inq_last                      -1.286869\n",
       "int_rate                       0.000000\n",
       "mths_since_earliest_cr_line    0.000000\n",
       "mths_since_issue_d            -0.308981\n",
       "mths_since_last_delinq         0.000000\n",
       "mths_since_last_record        -0.492287\n",
       "purpose                        0.000000\n",
       "term                           0.000000\n",
       "verification_status           -0.001729\n",
       "Name: Coefficients, dtype: float64"
      ]
     },
     "execution_count": 33,
     "metadata": {},
     "output_type": "execute_result"
    }
   ],
   "source": [
    "df_scorecard.groupby('Original feature name')['Coefficients'].min()"
   ]
  },
  {
   "cell_type": "code",
   "execution_count": 34,
   "metadata": {},
   "outputs": [
    {
     "data": {
      "text/plain": [
       "-0.6382741431187717"
      ]
     },
     "execution_count": 34,
     "metadata": {},
     "output_type": "execute_result"
    }
   ],
   "source": [
    "min_sum_coef = df_scorecard.groupby('Original feature name')['Coefficients'].min().sum()\n",
    "min_sum_coef"
   ]
  },
  {
   "cell_type": "code",
   "execution_count": 35,
   "metadata": {},
   "outputs": [
    {
     "data": {
      "text/plain": [
       "Original feature name\n",
       "Intercept                      1.483647\n",
       "acc_now_delinq                 0.148139\n",
       "addr_state                     0.518472\n",
       "annual_inc                     0.633294\n",
       "dti                            0.400541\n",
       "emp_length                     0.139248\n",
       "grade                          0.889716\n",
       "home_ownership                 0.098247\n",
       "initial_list_status            0.076700\n",
       "inq_last                       0.000000\n",
       "int_rate                       1.090135\n",
       "mths_since_earliest_cr_line    0.000000\n",
       "mths_since_issue_d             1.011105\n",
       "mths_since_last_delinq         0.145282\n",
       "mths_since_last_record         0.000000\n",
       "purpose                        0.234024\n",
       "term                           0.066079\n",
       "verification_status            0.107811\n",
       "Name: Coefficients, dtype: float64"
      ]
     },
     "execution_count": 35,
     "metadata": {},
     "output_type": "execute_result"
    }
   ],
   "source": [
    "df_scorecard.groupby('Original feature name')['Coefficients'].max()"
   ]
  },
  {
   "cell_type": "code",
   "execution_count": 36,
   "metadata": {},
   "outputs": [
    {
     "data": {
      "text/plain": [
       "7.042439238384943"
      ]
     },
     "execution_count": 36,
     "metadata": {},
     "output_type": "execute_result"
    }
   ],
   "source": [
    "max_sum_coef = df_scorecard.groupby('Original feature name')['Coefficients'].max().sum()\n",
    "max_sum_coef"
   ]
  },
  {
   "cell_type": "code",
   "execution_count": 37,
   "metadata": {},
   "outputs": [
    {
     "data": {
      "text/html": [
       "<div>\n",
       "<style scoped>\n",
       "    .dataframe tbody tr th:only-of-type {\n",
       "        vertical-align: middle;\n",
       "    }\n",
       "\n",
       "    .dataframe tbody tr th {\n",
       "        vertical-align: top;\n",
       "    }\n",
       "\n",
       "    .dataframe thead th {\n",
       "        text-align: right;\n",
       "    }\n",
       "</style>\n",
       "<table border=\"1\" class=\"dataframe\">\n",
       "  <thead>\n",
       "    <tr style=\"text-align: right;\">\n",
       "      <th></th>\n",
       "      <th>index</th>\n",
       "      <th>Feature name</th>\n",
       "      <th>Coefficients</th>\n",
       "      <th>p_values</th>\n",
       "      <th>Original feature name</th>\n",
       "      <th>Score - Calculation</th>\n",
       "    </tr>\n",
       "  </thead>\n",
       "  <tbody>\n",
       "    <tr>\n",
       "      <th>0</th>\n",
       "      <td>0</td>\n",
       "      <td>Intercept</td>\n",
       "      <td>1.483647</td>\n",
       "      <td>NaN</td>\n",
       "      <td>Intercept</td>\n",
       "      <td>106.240904</td>\n",
       "    </tr>\n",
       "    <tr>\n",
       "      <th>1</th>\n",
       "      <td>12</td>\n",
       "      <td>acc_now_delinq:0</td>\n",
       "      <td>0.000000</td>\n",
       "      <td>NaN</td>\n",
       "      <td>acc_now_delinq</td>\n",
       "      <td>0.000000</td>\n",
       "    </tr>\n",
       "    <tr>\n",
       "      <th>2</th>\n",
       "      <td>49</td>\n",
       "      <td>acc_now_delinq:&gt;=1</td>\n",
       "      <td>0.148139</td>\n",
       "      <td>1.996905e-01</td>\n",
       "      <td>acc_now_delinq</td>\n",
       "      <td>10.607919</td>\n",
       "    </tr>\n",
       "    <tr>\n",
       "      <th>3</th>\n",
       "      <td>2</td>\n",
       "      <td>addr_state:ND_NE_IA_NV_FL_HI_AL</td>\n",
       "      <td>0.000000</td>\n",
       "      <td>NaN</td>\n",
       "      <td>addr_state</td>\n",
       "      <td>0.000000</td>\n",
       "    </tr>\n",
       "    <tr>\n",
       "      <th>4</th>\n",
       "      <td>14</td>\n",
       "      <td>addr_state_AR_MI_PA_OH_MN</td>\n",
       "      <td>0.133445</td>\n",
       "      <td>2.489827e-08</td>\n",
       "      <td>addr_state</td>\n",
       "      <td>9.555709</td>\n",
       "    </tr>\n",
       "    <tr>\n",
       "      <th>...</th>\n",
       "      <td>...</td>\n",
       "      <td>...</td>\n",
       "      <td>...</td>\n",
       "      <td>...</td>\n",
       "      <td>...</td>\n",
       "      <td>...</td>\n",
       "    </tr>\n",
       "    <tr>\n",
       "      <th>92</th>\n",
       "      <td>6</td>\n",
       "      <td>term:60</td>\n",
       "      <td>0.000000</td>\n",
       "      <td>NaN</td>\n",
       "      <td>term</td>\n",
       "      <td>0.000000</td>\n",
       "    </tr>\n",
       "    <tr>\n",
       "      <th>93</th>\n",
       "      <td>29</td>\n",
       "      <td>term_int_36</td>\n",
       "      <td>0.066079</td>\n",
       "      <td>9.222822e-06</td>\n",
       "      <td>term</td>\n",
       "      <td>4.731760</td>\n",
       "    </tr>\n",
       "    <tr>\n",
       "      <th>94</th>\n",
       "      <td>3</td>\n",
       "      <td>verification_status:Verified</td>\n",
       "      <td>0.000000</td>\n",
       "      <td>NaN</td>\n",
       "      <td>verification_status</td>\n",
       "      <td>0.000000</td>\n",
       "    </tr>\n",
       "    <tr>\n",
       "      <th>95</th>\n",
       "      <td>22</td>\n",
       "      <td>verification_status_Not Verified</td>\n",
       "      <td>0.107811</td>\n",
       "      <td>2.499151e-12</td>\n",
       "      <td>verification_status</td>\n",
       "      <td>7.720117</td>\n",
       "    </tr>\n",
       "    <tr>\n",
       "      <th>96</th>\n",
       "      <td>23</td>\n",
       "      <td>verification_status_Source Verified</td>\n",
       "      <td>-0.001729</td>\n",
       "      <td>9.033123e-01</td>\n",
       "      <td>verification_status</td>\n",
       "      <td>-0.123834</td>\n",
       "    </tr>\n",
       "  </tbody>\n",
       "</table>\n",
       "<p>97 rows × 6 columns</p>\n",
       "</div>"
      ],
      "text/plain": [
       "    index                         Feature name  Coefficients      p_values  \\\n",
       "0       0                            Intercept      1.483647           NaN   \n",
       "1      12                     acc_now_delinq:0      0.000000           NaN   \n",
       "2      49                   acc_now_delinq:>=1      0.148139  1.996905e-01   \n",
       "3       2      addr_state:ND_NE_IA_NV_FL_HI_AL      0.000000           NaN   \n",
       "4      14            addr_state_AR_MI_PA_OH_MN      0.133445  2.489827e-08   \n",
       "..    ...                                  ...           ...           ...   \n",
       "92      6                              term:60      0.000000           NaN   \n",
       "93     29                          term_int_36      0.066079  9.222822e-06   \n",
       "94      3         verification_status:Verified      0.000000           NaN   \n",
       "95     22     verification_status_Not Verified      0.107811  2.499151e-12   \n",
       "96     23  verification_status_Source Verified     -0.001729  9.033123e-01   \n",
       "\n",
       "   Original feature name  Score - Calculation  \n",
       "0              Intercept           106.240904  \n",
       "1         acc_now_delinq             0.000000  \n",
       "2         acc_now_delinq            10.607919  \n",
       "3             addr_state             0.000000  \n",
       "4             addr_state             9.555709  \n",
       "..                   ...                  ...  \n",
       "92                  term             0.000000  \n",
       "93                  term             4.731760  \n",
       "94   verification_status             0.000000  \n",
       "95   verification_status             7.720117  \n",
       "96   verification_status            -0.123834  \n",
       "\n",
       "[97 rows x 6 columns]"
      ]
     },
     "execution_count": 37,
     "metadata": {},
     "output_type": "execute_result"
    }
   ],
   "source": [
    "df_scorecard['Score - Calculation'] = df_scorecard['Coefficients'] * (max_score - min_score) / (max_sum_coef - min_sum_coef)\n",
    "df_scorecard"
   ]
  },
  {
   "cell_type": "code",
   "execution_count": 46,
   "metadata": {},
   "outputs": [],
   "source": [
    "df_scorecard.loc[0,'Score - Calculation'] = ((df_scorecard['Coefficients'][0] - min_sum_coef) / (max_sum_coef - min_sum_coef)) * (max_score - min_score) + min_score"
   ]
  },
  {
   "cell_type": "code",
   "execution_count": 47,
   "metadata": {},
   "outputs": [],
   "source": [
    "df_scorecard['Score - Preliminary'] = df_scorecard['Score - Calculation'].round()"
   ]
  },
  {
   "cell_type": "code",
   "execution_count": 48,
   "metadata": {},
   "outputs": [
    {
     "data": {
      "text/plain": [
       "301.0"
      ]
     },
     "execution_count": 48,
     "metadata": {},
     "output_type": "execute_result"
    }
   ],
   "source": [
    "min_sum_score_prel = df_scorecard.groupby('Original feature name')['Score - Preliminary'].min().sum()\n",
    "min_sum_score_prel"
   ]
  },
  {
   "cell_type": "code",
   "execution_count": 50,
   "metadata": {},
   "outputs": [
    {
     "data": {
      "text/plain": [
       "850.0"
      ]
     },
     "execution_count": 50,
     "metadata": {},
     "output_type": "execute_result"
    }
   ],
   "source": [
    "max_sum_score_prel = df_scorecard.groupby('Original feature name')['Score - Preliminary'].max().sum()\n",
    "max_sum_score_prel"
   ]
  },
  {
   "cell_type": "code",
   "execution_count": 72,
   "metadata": {},
   "outputs": [],
   "source": [
    "df_scorecard['Score - Final'] = df_scorecard['Score - Preliminary']\n",
    "df_scorecard.loc[0,'Score - Final'] = 451"
   ]
  },
  {
   "cell_type": "code",
   "execution_count": 77,
   "metadata": {},
   "outputs": [],
   "source": [
    "df_scorecard.loc[46,'Score - Final'] = 65"
   ]
  },
  {
   "cell_type": "code",
   "execution_count": 78,
   "metadata": {},
   "outputs": [
    {
     "data": {
      "text/plain": [
       "(300.0, 850.0)"
      ]
     },
     "execution_count": 78,
     "metadata": {},
     "output_type": "execute_result"
    }
   ],
   "source": [
    "df_scorecard.groupby('Original feature name')['Score - Final'].min().sum(), df_scorecard.groupby('Original feature name')['Score - Final'].max().sum()"
   ]
  },
  {
   "cell_type": "code",
   "execution_count": null,
   "metadata": {},
   "outputs": [],
   "source": []
  }
 ],
 "metadata": {
  "interpreter": {
   "hash": "aee8b7b246df8f9039afb4144a1f6fd8d2ca17a180786b69acc140d282b71a49"
  },
  "kernelspec": {
   "display_name": "Python 3.9.10 64-bit",
   "language": "python",
   "name": "python3"
  },
  "language_info": {
   "codemirror_mode": {
    "name": "ipython",
    "version": 3
   },
   "file_extension": ".py",
   "mimetype": "text/x-python",
   "name": "python",
   "nbconvert_exporter": "python",
   "pygments_lexer": "ipython3",
   "version": "3.9.10"
  },
  "orig_nbformat": 4
 },
 "nbformat": 4,
 "nbformat_minor": 2
}
