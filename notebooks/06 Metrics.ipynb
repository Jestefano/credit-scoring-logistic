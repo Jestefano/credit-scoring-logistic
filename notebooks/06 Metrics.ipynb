{
 "cells": [
  {
   "cell_type": "code",
   "execution_count": 26,
   "id": "a69205c8",
   "metadata": {},
   "outputs": [],
   "source": [
    "import pandas as pd\n",
    "import numpy as np\n",
    "import matplotlib.pyplot as plt\n",
    "import seaborn as sns\n",
    "\n",
    "from sklearn.metrics import roc_curve, roc_auc_score\n",
    "\n",
    "sns.set()"
   ]
  },
  {
   "cell_type": "code",
   "execution_count": 7,
   "id": "6a18695d",
   "metadata": {
    "scrolled": false
   },
   "outputs": [
    {
     "data": {
      "text/html": [
       "<div>\n",
       "<style scoped>\n",
       "    .dataframe tbody tr th:only-of-type {\n",
       "        vertical-align: middle;\n",
       "    }\n",
       "\n",
       "    .dataframe tbody tr th {\n",
       "        vertical-align: top;\n",
       "    }\n",
       "\n",
       "    .dataframe thead th {\n",
       "        text-align: right;\n",
       "    }\n",
       "</style>\n",
       "<table border=\"1\" class=\"dataframe\">\n",
       "  <thead>\n",
       "    <tr style=\"text-align: right;\">\n",
       "      <th></th>\n",
       "      <th>Unnamed: 0</th>\n",
       "      <th>pred_1</th>\n",
       "      <th>pred_2</th>\n",
       "    </tr>\n",
       "  </thead>\n",
       "  <tbody>\n",
       "    <tr>\n",
       "      <th>0</th>\n",
       "      <td>0</td>\n",
       "      <td>0.934371</td>\n",
       "      <td>0.934902</td>\n",
       "    </tr>\n",
       "    <tr>\n",
       "      <th>1</th>\n",
       "      <td>1</td>\n",
       "      <td>0.902951</td>\n",
       "      <td>0.909765</td>\n",
       "    </tr>\n",
       "    <tr>\n",
       "      <th>2</th>\n",
       "      <td>2</td>\n",
       "      <td>0.906280</td>\n",
       "      <td>0.909248</td>\n",
       "    </tr>\n",
       "    <tr>\n",
       "      <th>3</th>\n",
       "      <td>3</td>\n",
       "      <td>0.955018</td>\n",
       "      <td>0.956573</td>\n",
       "    </tr>\n",
       "    <tr>\n",
       "      <th>4</th>\n",
       "      <td>4</td>\n",
       "      <td>0.964563</td>\n",
       "      <td>0.964068</td>\n",
       "    </tr>\n",
       "  </tbody>\n",
       "</table>\n",
       "</div>"
      ],
      "text/plain": [
       "   Unnamed: 0    pred_1    pred_2\n",
       "0           0  0.934371  0.934902\n",
       "1           1  0.902951  0.909765\n",
       "2           2  0.906280  0.909248\n",
       "3           3  0.955018  0.956573\n",
       "4           4  0.964563  0.964068"
      ]
     },
     "execution_count": 7,
     "metadata": {},
     "output_type": "execute_result"
    }
   ],
   "source": [
    "y_test = pd.read_csv('../processed/y_test.csv')\n",
    "predictions = pd.read_csv('../processed/predictions.csv')\n",
    "predictions.head()"
   ]
  },
  {
   "cell_type": "code",
   "execution_count": 17,
   "id": "57fdfeb7",
   "metadata": {},
   "outputs": [],
   "source": [
    "tr = 0.8\n",
    "predictions['pred_2_tr'] = np.where(predictions.pred_2 > tr, 1, 0)"
   ]
  },
  {
   "cell_type": "code",
   "execution_count": 18,
   "id": "19546166",
   "metadata": {},
   "outputs": [
    {
     "data": {
      "text/html": [
       "<div>\n",
       "<style scoped>\n",
       "    .dataframe tbody tr th:only-of-type {\n",
       "        vertical-align: middle;\n",
       "    }\n",
       "\n",
       "    .dataframe tbody tr th {\n",
       "        vertical-align: top;\n",
       "    }\n",
       "\n",
       "    .dataframe thead th {\n",
       "        text-align: right;\n",
       "    }\n",
       "</style>\n",
       "<table border=\"1\" class=\"dataframe\">\n",
       "  <thead>\n",
       "    <tr style=\"text-align: right;\">\n",
       "      <th>pred_2_tr</th>\n",
       "      <th>0</th>\n",
       "      <th>1</th>\n",
       "    </tr>\n",
       "    <tr>\n",
       "      <th>good_bad</th>\n",
       "      <th></th>\n",
       "      <th></th>\n",
       "    </tr>\n",
       "  </thead>\n",
       "  <tbody>\n",
       "    <tr>\n",
       "      <th>0</th>\n",
       "      <td>1924</td>\n",
       "      <td>6955</td>\n",
       "    </tr>\n",
       "    <tr>\n",
       "      <th>1</th>\n",
       "      <td>5746</td>\n",
       "      <td>78632</td>\n",
       "    </tr>\n",
       "  </tbody>\n",
       "</table>\n",
       "</div>"
      ],
      "text/plain": [
       "pred_2_tr     0      1\n",
       "good_bad              \n",
       "0          1924   6955\n",
       "1          5746  78632"
      ]
     },
     "execution_count": 18,
     "metadata": {},
     "output_type": "execute_result"
    }
   ],
   "source": [
    "pd.crosstab(y_test.good_bad, predictions.pred_2_tr)"
   ]
  },
  {
   "cell_type": "code",
   "execution_count": 21,
   "id": "9f6d100f",
   "metadata": {
    "scrolled": true
   },
   "outputs": [
    {
     "data": {
      "text/plain": [
       "0.8638064702917744"
      ]
     },
     "execution_count": 21,
     "metadata": {},
     "output_type": "execute_result"
    }
   ],
   "source": [
    "(y_test.good_bad == predictions.pred_2_tr).mean()"
   ]
  },
  {
   "cell_type": "code",
   "execution_count": 35,
   "id": "b3347474",
   "metadata": {},
   "outputs": [],
   "source": [
    "fpr, tpr, trs = roc_curve(y_test.good_bad,predictions.pred_2)"
   ]
  },
  {
   "cell_type": "code",
   "execution_count": 36,
   "id": "e9ce4899",
   "metadata": {},
   "outputs": [
    {
     "data": {
      "text/plain": [
       "Text(0, 0.5, 'true positive rate')"
      ]
     },
     "execution_count": 36,
     "metadata": {},
     "output_type": "execute_result"
    },
    {
     "data": {
      "image/png": "[encoded data removed]",
      "text/plain": [
       "<Figure size 432x288 with 1 Axes>"
      ]
     },
     "metadata": {
      "needs_background": "light"
     },
     "output_type": "display_data"
    }
   ],
   "source": [
    "plt.plot(fpr,tpr)\n",
    "plt.plot(fpr,fpr,linestyle='--',color='k')\n",
    "plt.title('ROC curve')\n",
    "plt.xlabel('false positive rate')\n",
    "plt.ylabel('true positive rate')"
   ]
  },
  {
   "cell_type": "code",
   "execution_count": 38,
   "id": "1dd71823",
   "metadata": {},
   "outputs": [
    {
     "data": {
      "text/plain": [
       "0.7088819078059299"
      ]
     },
     "execution_count": 38,
     "metadata": {},
     "output_type": "execute_result"
    }
   ],
   "source": [
    "area_uc = roc_auc_score(y_test.good_bad,predictions.pred_2)\n",
    "area_uc"
   ]
  },
  {
   "cell_type": "code",
   "execution_count": 42,
   "id": "a42f9afd",
   "metadata": {},
   "outputs": [
    {
     "data": {
      "text/plain": [
       "0.7087475991576646"
      ]
     },
     "execution_count": 42,
     "metadata": {},
     "output_type": "execute_result"
    }
   ],
   "source": [
    "roc_auc_score(y_test.good_bad,predictions.pred_1)"
   ]
  },
  {
   "cell_type": "markdown",
   "id": "87085b48",
   "metadata": {},
   "source": [
    "## KS - Gini"
   ]
  },
  {
   "cell_type": "code",
   "execution_count": 41,
   "id": "2eeb0425",
   "metadata": {},
   "outputs": [
    {
     "data": {
      "text/html": [
       "<div>\n",
       "<style scoped>\n",
       "    .dataframe tbody tr th:only-of-type {\n",
       "        vertical-align: middle;\n",
       "    }\n",
       "\n",
       "    .dataframe tbody tr th {\n",
       "        vertical-align: top;\n",
       "    }\n",
       "\n",
       "    .dataframe thead th {\n",
       "        text-align: right;\n",
       "    }\n",
       "</style>\n",
       "<table border=\"1\" class=\"dataframe\">\n",
       "  <thead>\n",
       "    <tr style=\"text-align: right;\">\n",
       "      <th></th>\n",
       "      <th>Unnamed: 0</th>\n",
       "      <th>pred_1</th>\n",
       "      <th>pred_2</th>\n",
       "      <th>pred_2_tr</th>\n",
       "      <th>y_test</th>\n",
       "    </tr>\n",
       "  </thead>\n",
       "  <tbody>\n",
       "    <tr>\n",
       "      <th>0</th>\n",
       "      <td>0</td>\n",
       "      <td>0.934371</td>\n",
       "      <td>0.934902</td>\n",
       "      <td>1</td>\n",
       "      <td>1</td>\n",
       "    </tr>\n",
       "  </tbody>\n",
       "</table>\n",
       "</div>"
      ],
      "text/plain": [
       "   Unnamed: 0    pred_1    pred_2  pred_2_tr  y_test\n",
       "0           0  0.934371  0.934902          1       1"
      ]
     },
     "execution_count": 41,
     "metadata": {},
     "output_type": "execute_result"
    }
   ],
   "source": [
    "predictions['y_test'] = y_test.good_bad\n",
    "predictions.head(1)"
   ]
  },
  {
   "cell_type": "code",
   "execution_count": 48,
   "id": "5096389c",
   "metadata": {},
   "outputs": [],
   "source": [
    "predictions_sorted = predictions.sort_values('pred_2').reset_index()\n",
    "\n",
    "predictions_sorted['obs'] = predictions_sorted.index\n",
    "predictions_sorted['non_defaults'] = predictions_sorted.y_test.cumsum()\n",
    "predictions_sorted['defaults'] = predictions_sorted.obs - predictions_sorted.non_defaults\n",
    "\n",
    "predictions_sorted['obs_pct'] = predictions_sorted.obs / predictions_sorted.shape[0]\n",
    "predictions_sorted['non_defaults_pct'] = predictions_sorted.non_defaults / predictions_sorted.non_defaults.max()\n",
    "predictions_sorted['defaults_pct'] = predictions_sorted.defaults / predictions_sorted.defaults.max()"
   ]
  },
  {
   "cell_type": "code",
   "execution_count": 51,
   "id": "b15dce14",
   "metadata": {},
   "outputs": [
    {
     "data": {
      "text/plain": [
       "Text(0.5, 1.0, 'Gini')"
      ]
     },
     "execution_count": 51,
     "metadata": {},
     "output_type": "execute_result"
    },
    {
     "data": {
      "image/png": "[encoded data removed]",
      "text/plain": [
       "<Figure size 432x288 with 1 Axes>"
      ]
     },
     "metadata": {
      "needs_background": "light"
     },
     "output_type": "display_data"
    }
   ],
   "source": [
    "plt.plot(predictions_sorted.obs_pct,predictions_sorted.defaults_pct)\n",
    "plt.plot(predictions_sorted.obs_pct,predictions_sorted.obs_pct,linestyle='--',color='k')\n",
    "plt.xlabel('Cumulative % population')\n",
    "plt.ylabel('Cumulative % default')\n",
    "plt.title('Gini')"
   ]
  },
  {
   "cell_type": "code",
   "execution_count": 53,
   "id": "131b22f6",
   "metadata": {},
   "outputs": [
    {
     "data": {
      "text/plain": [
       "0.4177638156118597"
      ]
     },
     "execution_count": 53,
     "metadata": {},
     "output_type": "execute_result"
    }
   ],
   "source": [
    "gini = area_uc * 2 -1\n",
    "gini"
   ]
  },
  {
   "cell_type": "code",
   "execution_count": 54,
   "id": "17f9bb22",
   "metadata": {},
   "outputs": [
    {
     "data": {
      "text/html": [
       "<div>\n",
       "<style scoped>\n",
       "    .dataframe tbody tr th:only-of-type {\n",
       "        vertical-align: middle;\n",
       "    }\n",
       "\n",
       "    .dataframe tbody tr th {\n",
       "        vertical-align: top;\n",
       "    }\n",
       "\n",
       "    .dataframe thead th {\n",
       "        text-align: right;\n",
       "    }\n",
       "</style>\n",
       "<table border=\"1\" class=\"dataframe\">\n",
       "  <thead>\n",
       "    <tr style=\"text-align: right;\">\n",
       "      <th></th>\n",
       "      <th>index</th>\n",
       "      <th>Unnamed: 0</th>\n",
       "      <th>pred_1</th>\n",
       "      <th>pred_2</th>\n",
       "      <th>pred_2_tr</th>\n",
       "      <th>y_test</th>\n",
       "      <th>obs</th>\n",
       "      <th>non_defaults</th>\n",
       "      <th>defaults</th>\n",
       "      <th>obs_pct</th>\n",
       "      <th>non_defaults_pct</th>\n",
       "      <th>defaults_pct</th>\n",
       "    </tr>\n",
       "  </thead>\n",
       "  <tbody>\n",
       "    <tr>\n",
       "      <th>0</th>\n",
       "      <td>64010</td>\n",
       "      <td>64010</td>\n",
       "      <td>0.497057</td>\n",
       "      <td>0.512922</td>\n",
       "      <td>0</td>\n",
       "      <td>0</td>\n",
       "      <td>0</td>\n",
       "      <td>0</td>\n",
       "      <td>0</td>\n",
       "      <td>0.0</td>\n",
       "      <td>0.0</td>\n",
       "      <td>0.0</td>\n",
       "    </tr>\n",
       "  </tbody>\n",
       "</table>\n",
       "</div>"
      ],
      "text/plain": [
       "   index  Unnamed: 0    pred_1    pred_2  pred_2_tr  y_test  obs  \\\n",
       "0  64010       64010  0.497057  0.512922          0       0    0   \n",
       "\n",
       "   non_defaults  defaults  obs_pct  non_defaults_pct  defaults_pct  \n",
       "0             0         0      0.0               0.0           0.0  "
      ]
     },
     "execution_count": 54,
     "metadata": {},
     "output_type": "execute_result"
    }
   ],
   "source": [
    "predictions_sorted.head(1)"
   ]
  },
  {
   "cell_type": "code",
   "execution_count": 62,
   "id": "b739e4a9",
   "metadata": {},
   "outputs": [
    {
     "data": {
      "text/plain": [
       "Text(0.5, 1.0, 'Kolmogorov Smirnov')"
      ]
     },
     "execution_count": 62,
     "metadata": {},
     "output_type": "execute_result"
    },
    {
     "data": {
      "image/png": "[encoded data removed]",
      "text/plain": [
       "<Figure size 432x288 with 1 Axes>"
      ]
     },
     "metadata": {
      "needs_background": "light"
     },
     "output_type": "display_data"
    }
   ],
   "source": [
    "plt.plot(predictions_sorted.pred_2,predictions_sorted.non_defaults_pct,label='non-default')\n",
    "plt.plot(predictions_sorted.pred_2,predictions_sorted.defaults_pct,label='default')\n",
    "plt.xlabel('Probability of being bad')\n",
    "plt.ylabel('Cumulative distribution')\n",
    "plt.legend()\n",
    "plt.title('Kolmogorov Smirnov')"
   ]
  },
  {
   "cell_type": "code",
   "execution_count": 68,
   "id": "683f7502",
   "metadata": {},
   "outputs": [
    {
     "data": {
      "text/plain": [
       "0.3066840770294175"
      ]
     },
     "execution_count": 68,
     "metadata": {},
     "output_type": "execute_result"
    }
   ],
   "source": [
    "ks = max(predictions_sorted.defaults_pct - predictions_sorted.non_defaults_pct)\n",
    "ks"
   ]
  },
  {
   "cell_type": "code",
   "execution_count": null,
   "id": "e748ebbd",
   "metadata": {},
   "outputs": [],
   "source": []
  },
  {
   "cell_type": "code",
   "execution_count": null,
   "id": "fc668101",
   "metadata": {},
   "outputs": [],
   "source": []
  }
 ],
 "metadata": {
  "kernelspec": {
   "display_name": "Python 3 (ipykernel)",
   "language": "python",
   "name": "python3"
  },
  "language_info": {
   "codemirror_mode": {
    "name": "ipython",
    "version": 3
   },
   "file_extension": ".py",
   "mimetype": "text/x-python",
   "name": "python",
   "nbconvert_exporter": "python",
   "pygments_lexer": "ipython3",
   "version": "3.9.12"
  }
 },
 "nbformat": 4,
 "nbformat_minor": 5
}
